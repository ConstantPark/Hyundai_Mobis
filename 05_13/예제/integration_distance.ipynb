{
 "cells": [
  {
   "cell_type": "markdown",
   "metadata": {},
   "source": [
    "필요한 패키지를 import합니다."
   ]
  },
  {
   "cell_type": "code",
   "execution_count": 74,
   "metadata": {},
   "outputs": [],
   "source": [
    "import pandas as pd"
   ]
  },
  {
   "attachments": {},
   "cell_type": "markdown",
   "metadata": {},
   "source": [
    "raw폴더에 존재하는 모든 xlsx 파일을 병합합니다."
   ]
  },
  {
   "cell_type": "code",
   "execution_count": 78,
   "metadata": {},
   "outputs": [],
   "source": [
    "trades = pd.DataFrame(\n",
    "...        {\n",
    "...            \"time\": [\n",
    "...                pd.Timestamp(\"2016-05-25 13:30:00.023\"),\n",
    "...                pd.Timestamp(\"2016-05-25 13:30:00.038\"),\n",
    "...                pd.Timestamp(\"2016-05-25 13:30:00.048\"),\n",
    "...                pd.Timestamp(\"2016-05-25 13:30:00.048\"),\n",
    "...                pd.Timestamp(\"2016-05-25 13:30:00.048\")\n",
    "...            ],\n",
    "...            \"ticker\": [\"MSFT\", \"MSFT\", \"GOOG\", \"GOOG\", \"AAPL\"],\n",
    "...            \"price\": [51.95, 51.95, 720.77, 720.92, 98.0],\n",
    "...            \"quantity\": [75, 155, 100, 100, 100]\n",
    "...        }\n",
    "...    )"
   ]
  },
  {
   "cell_type": "code",
   "execution_count": 80,
   "metadata": {},
   "outputs": [],
   "source": [
    "quotes = pd.DataFrame(\n",
    "...     {\n",
    "...         \"time\": [\n",
    "...             pd.Timestamp(\"2016-05-25 13:30:00.023\"),\n",
    "...             pd.Timestamp(\"2016-05-25 13:30:00.023\"),\n",
    "...             pd.Timestamp(\"2016-05-25 13:30:00.030\"),\n",
    "...             pd.Timestamp(\"2016-05-25 13:30:00.041\"),\n",
    "...             pd.Timestamp(\"2016-05-25 13:30:00.048\"),\n",
    "...             pd.Timestamp(\"2016-05-25 13:30:00.049\"),\n",
    "...             pd.Timestamp(\"2016-05-25 13:30:00.072\"),\n",
    "...             pd.Timestamp(\"2016-05-25 13:30:00.075\")\n",
    "...         ],\n",
    "...         \"ticker\": [\n",
    "...                \"GOOG\",\n",
    "...                \"MSFT\",\n",
    "...                \"MSFT\",\n",
    "...                \"MSFT\",\n",
    "...                \"GOOG\",\n",
    "...                \"AAPL\",\n",
    "...                \"GOOG\",\n",
    "...                \"MSFT\"\n",
    "...            ],\n",
    "...            \"bid\": [720.50, 51.95, 51.97, 51.99, 720.50, 97.99, 720.50, 52.01],\n",
    "...            \"ask\": [720.93, 51.96, 51.98, 52.00, 720.93, 98.01, 720.88, 52.03]\n",
    "...     }\n",
    "... )"
   ]
  },
  {
   "cell_type": "markdown",
   "metadata": {},
   "source": [
    "거리 기반의 병합방법을 수행합니다."
   ]
  }
 ],
 "metadata": {
  "kernelspec": {
   "display_name": "Python 3",
   "language": "python",
   "name": "python3"
  },
  "language_info": {
   "codemirror_mode": {
    "name": "ipython",
    "version": 3
   },
   "file_extension": ".py",
   "mimetype": "text/x-python",
   "name": "python",
   "nbconvert_exporter": "python",
   "pygments_lexer": "ipython3",
   "version": "3.8.3"
  }
 },
 "nbformat": 4,
 "nbformat_minor": 4
}
