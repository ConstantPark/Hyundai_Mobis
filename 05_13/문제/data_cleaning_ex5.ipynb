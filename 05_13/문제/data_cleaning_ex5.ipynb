{
 "cells": [
  {
   "cell_type": "markdown",
   "metadata": {},
   "source": [
    "## 결측값을 예측모형으로 예측치 넣기 ##\n",
    "\n",
    "* sklearn(사이킷런) 사용   \n",
    "* ind_cols: 예측하고 싶은 값에 영향을 주는 요소 중 서로 독립적인 칼럼명만 넣어둔다.\n",
    "* train, test, predict 데이터 x 값에 바로 넣기 편하다.\n"
   ]
  },
  {
   "cell_type": "code",
   "execution_count": 103,
   "metadata": {},
   "outputs": [
    {
     "name": "stdout",
     "output_type": "stream",
     "text": [
      "        Unnamed: 0  actiontype  ismydoc    ext  sessionid  documentposition  \\\n",
      "0            False       False    False  False      False             False   \n",
      "1            False       False    False  False      False             False   \n",
      "2            False       False    False  False      False             False   \n",
      "3            False       False    False  False      False             False   \n",
      "4            False       False    False  False      False             False   \n",
      "...            ...         ...      ...    ...        ...               ...   \n",
      "301856       False       False    False  False      False              True   \n",
      "301857       False       False    False  False      False              True   \n",
      "301858       False       False    False  False      False              True   \n",
      "301859       False       False    False  False      False              True   \n",
      "301860       False       False    False  False      False             False   \n",
      "\n",
      "        datetime  screen  \n",
      "0          False   False  \n",
      "1          False   False  \n",
      "2          False   False  \n",
      "3          False   False  \n",
      "4          False   False  \n",
      "...          ...     ...  \n",
      "301856     False   False  \n",
      "301857     False   False  \n",
      "301858     False   False  \n",
      "301859     False   False  \n",
      "301860     False   False  \n",
      "\n",
      "[301861 rows x 8 columns]\n"
     ]
    }
   ],
   "source": [
    "import pandas as pd \n",
    "import sklearn\n",
    "\n",
    "df_ms=pd.read_csv('./df_funnel.csv')\n",
    "print(df_ms.isnull())\n",
    "\n",
    "df_msl = df_ms.dropna()\n",
    "\n",
    "# set independent cols  <-- 서로 영향 없는 칼럼만 고르기\n",
    "\n",
    "ind_cols = ['actiontype', 'ismydoc', 'ext', 'screen']\n",
    "\n",
    "#split ind, tar --> 학습시키고 싶은 칼럼과 인풋 칼럼 나누기\n",
    "x = df_msl[ind_cols]\n",
    "y = df_msl[['documentposition']]\n"
   ]
  },
  {
   "attachments": {},
   "cell_type": "markdown",
   "metadata": {},
   "source": [
    "항목값 전처리 (Label Encoder)\n",
    "* 인코딩은 카테고리 값이나 텍스트 정보를 처리가 쉬운 정수로 변환하는 과정\n",
    "* Label encoder는 독립 변수가 아닌 종속 변수 (라벨)에 대해 사용\n",
    "* 문자열이나 정수로 된 라벨 값을 0~K-1까지의 정수로 변환 "
   ]
  },
  {
   "cell_type": "code",
   "execution_count": 104,
   "metadata": {},
   "outputs": [],
   "source": [
    "from sklearn.preprocessing import LabelEncoder\n",
    "\n",
    "encoder = LabelEncoder()\n",
    "\n",
    "X = x.apply(lambda x: encoder.fit_transform(x))\n",
    "y = y.apply(lambda y: encoder.fit_transform(y))\n",
    "# .inverse_transform()를 이용해서 역방향도 가능하다."
   ]
  },
  {
   "attachments": {},
   "cell_type": "markdown",
   "metadata": {},
   "source": [
    "훈련데이터와 평가데이터 추출\n",
    "* train_test_split는 데이터의 표본을 무작위로 추출해 훈련 데이터와 평가 데이터로 나눔\n",
    "* random_state 속성값을 이용해서 적절히 섞은 곳에서 추출 가능"
   ]
  },
  {
   "cell_type": "code",
   "execution_count": 105,
   "metadata": {},
   "outputs": [],
   "source": [
    "from sklearn.model_selection import train_test_split\n",
    "\n",
    "# X: df_ms_ind / y: df_ms_tar\n",
    "X_train, X_test, y_train, y_test = ?(X, y, random_state=10)"
   ]
  },
  {
   "cell_type": "markdown",
   "metadata": {},
   "source": [
    "학습모형 만들기: KNN 알고리즘\n",
    "* K-최근접 이웃 알고리즘 (KNN)은 분류나 회귀에서 사용되는 ML 기법\n",
    "* 특정한 공간 내에 K개의 가장 가까운 훈련 데이터를 사용하여 해당 값을 예측하는 모델\n",
    "* KNeighborsClassifier 함수를 사용하여 ML 모델을 정의 (n_neighbors는 K개의 갯수를 조절)\n",
    "* Fit 함수를 사용하여 학습에 사용할 데이터를 명시\n",
    "* Score 함수를 사용하여 성능 평가 !\n"
   ]
  },
  {
   "cell_type": "code",
   "execution_count": 106,
   "metadata": {},
   "outputs": [
    {
     "name": "stderr",
     "output_type": "stream",
     "text": [
      "<ipython-input-106-1cc272030978>:3: DataConversionWarning: A column-vector y was passed when a 1d array was expected. Please change the shape of y to (n_samples, ), for example using ravel().\n",
      "  knn = KNeighborsClassifier(n_neighbors=5).fit(X_train, y_train)\n"
     ]
    }
   ],
   "source": [
    "from sklearn.neighbors import KNeighborsClassifier\n",
    "\n",
    "knn = ? # ML 모델 정의\n",
    "knn.? (X_train, y_train) # 학습에 사용할 데이터 명시\n",
    "print(knn.score(X_test, y_test) # Score 함수를 사용하여 성능 평가 !\n"
   ]
  },
  {
   "cell_type": "markdown",
   "metadata": {},
   "source": [
    "학습모형 평가하기 - Score\n",
    "* 학습을 통해 만들어진 예측 모형에 평가 데이터를 넣어 실제값과 얼마나 유사하게 예측하는지 평가한다.\n",
    "* 즉, X를 넣어 나온 predicted Y가 넣어준 Y와 맞는지 확인\n",
    "* 즉, 스코어는 해당 모델의 예측 정확도를 확인할 수 있음"
   ]
  },
  {
   "cell_type": "code",
   "execution_count": 107,
   "metadata": {},
   "outputs": [
    {
     "name": "stdout",
     "output_type": "stream",
     "text": [
      "0.9998012165546853\n"
     ]
    }
   ],
   "source": [
    "print(knn.score(X_test, y_test))"
   ]
  },
  {
   "cell_type": "markdown",
   "metadata": {},
   "source": [
    "결측값에 예측치 채워 넣기"
   ]
  },
  {
   "cell_type": "code",
   "execution_count": 114,
   "metadata": {},
   "outputs": [
    {
     "name": "stdout",
     "output_type": "stream",
     "text": [
      "['InProduct_Mob' 'Main' 'Pub_Dir']\n"
     ]
    },
    {
     "name": "stderr",
     "output_type": "stream",
     "text": [
      "<ipython-input-114-7d58c35bd3e4>:19: SettingWithCopyWarning: \n",
      "A value is trying to be set on a copy of a slice from a DataFrame.\n",
      "Try using .loc[row_indexer,col_indexer] = value instead\n",
      "\n",
      "See the caveats in the documentation: https://pandas.pydata.org/pandas-docs/stable/user_guide/indexing.html#returning-a-view-versus-a-copy\n",
      "  df_ms_only['documentposition'] = fill_na_values\n",
      "<ipython-input-114-7d58c35bd3e4>:22: SettingWithCopyWarning: \n",
      "A value is trying to be set on a copy of a slice from a DataFrame.\n",
      "Try using .loc[row_indexer,col_indexer] = value instead\n",
      "\n",
      "See the caveats in the documentation: https://pandas.pydata.org/pandas-docs/stable/user_guide/indexing.html#returning-a-view-versus-a-copy\n",
      "  df_ms_only['documentposition'] = df_ms_only['documentposition'].replace(class_cd)\n"
     ]
    },
    {
     "data": {
      "text/html": [
       "<div>\n",
       "<style scoped>\n",
       "    .dataframe tbody tr th:only-of-type {\n",
       "        vertical-align: middle;\n",
       "    }\n",
       "\n",
       "    .dataframe tbody tr th {\n",
       "        vertical-align: top;\n",
       "    }\n",
       "\n",
       "    .dataframe thead th {\n",
       "        text-align: right;\n",
       "    }\n",
       "</style>\n",
       "<table border=\"1\" class=\"dataframe\">\n",
       "  <thead>\n",
       "    <tr style=\"text-align: right;\">\n",
       "      <th></th>\n",
       "      <th>Unnamed: 0</th>\n",
       "      <th>actiontype</th>\n",
       "      <th>ismydoc</th>\n",
       "      <th>ext</th>\n",
       "      <th>sessionid</th>\n",
       "      <th>documentposition</th>\n",
       "      <th>datetime</th>\n",
       "      <th>screen</th>\n",
       "    </tr>\n",
       "  </thead>\n",
       "  <tbody>\n",
       "    <tr>\n",
       "      <th>0</th>\n",
       "      <td>False</td>\n",
       "      <td>False</td>\n",
       "      <td>False</td>\n",
       "      <td>False</td>\n",
       "      <td>False</td>\n",
       "      <td>False</td>\n",
       "      <td>False</td>\n",
       "      <td>False</td>\n",
       "    </tr>\n",
       "    <tr>\n",
       "      <th>1</th>\n",
       "      <td>False</td>\n",
       "      <td>False</td>\n",
       "      <td>False</td>\n",
       "      <td>False</td>\n",
       "      <td>False</td>\n",
       "      <td>False</td>\n",
       "      <td>False</td>\n",
       "      <td>False</td>\n",
       "    </tr>\n",
       "    <tr>\n",
       "      <th>2</th>\n",
       "      <td>False</td>\n",
       "      <td>False</td>\n",
       "      <td>False</td>\n",
       "      <td>False</td>\n",
       "      <td>False</td>\n",
       "      <td>False</td>\n",
       "      <td>False</td>\n",
       "      <td>False</td>\n",
       "    </tr>\n",
       "    <tr>\n",
       "      <th>3</th>\n",
       "      <td>False</td>\n",
       "      <td>False</td>\n",
       "      <td>False</td>\n",
       "      <td>False</td>\n",
       "      <td>False</td>\n",
       "      <td>False</td>\n",
       "      <td>False</td>\n",
       "      <td>False</td>\n",
       "    </tr>\n",
       "    <tr>\n",
       "      <th>4</th>\n",
       "      <td>False</td>\n",
       "      <td>False</td>\n",
       "      <td>False</td>\n",
       "      <td>False</td>\n",
       "      <td>False</td>\n",
       "      <td>False</td>\n",
       "      <td>False</td>\n",
       "      <td>False</td>\n",
       "    </tr>\n",
       "    <tr>\n",
       "      <th>...</th>\n",
       "      <td>...</td>\n",
       "      <td>...</td>\n",
       "      <td>...</td>\n",
       "      <td>...</td>\n",
       "      <td>...</td>\n",
       "      <td>...</td>\n",
       "      <td>...</td>\n",
       "      <td>...</td>\n",
       "    </tr>\n",
       "    <tr>\n",
       "      <th>301855</th>\n",
       "      <td>False</td>\n",
       "      <td>False</td>\n",
       "      <td>False</td>\n",
       "      <td>False</td>\n",
       "      <td>False</td>\n",
       "      <td>False</td>\n",
       "      <td>False</td>\n",
       "      <td>False</td>\n",
       "    </tr>\n",
       "    <tr>\n",
       "      <th>301856</th>\n",
       "      <td>False</td>\n",
       "      <td>False</td>\n",
       "      <td>False</td>\n",
       "      <td>False</td>\n",
       "      <td>False</td>\n",
       "      <td>False</td>\n",
       "      <td>False</td>\n",
       "      <td>False</td>\n",
       "    </tr>\n",
       "    <tr>\n",
       "      <th>301857</th>\n",
       "      <td>False</td>\n",
       "      <td>False</td>\n",
       "      <td>False</td>\n",
       "      <td>False</td>\n",
       "      <td>False</td>\n",
       "      <td>False</td>\n",
       "      <td>False</td>\n",
       "      <td>False</td>\n",
       "    </tr>\n",
       "    <tr>\n",
       "      <th>301858</th>\n",
       "      <td>False</td>\n",
       "      <td>False</td>\n",
       "      <td>False</td>\n",
       "      <td>False</td>\n",
       "      <td>False</td>\n",
       "      <td>False</td>\n",
       "      <td>False</td>\n",
       "      <td>False</td>\n",
       "    </tr>\n",
       "    <tr>\n",
       "      <th>301859</th>\n",
       "      <td>False</td>\n",
       "      <td>False</td>\n",
       "      <td>False</td>\n",
       "      <td>False</td>\n",
       "      <td>False</td>\n",
       "      <td>False</td>\n",
       "      <td>False</td>\n",
       "      <td>False</td>\n",
       "    </tr>\n",
       "  </tbody>\n",
       "</table>\n",
       "<p>301861 rows × 8 columns</p>\n",
       "</div>"
      ],
      "text/plain": [
       "        Unnamed: 0  actiontype  ismydoc    ext  sessionid  documentposition  \\\n",
       "0            False       False    False  False      False             False   \n",
       "1            False       False    False  False      False             False   \n",
       "2            False       False    False  False      False             False   \n",
       "3            False       False    False  False      False             False   \n",
       "4            False       False    False  False      False             False   \n",
       "...            ...         ...      ...    ...        ...               ...   \n",
       "301855       False       False    False  False      False             False   \n",
       "301856       False       False    False  False      False             False   \n",
       "301857       False       False    False  False      False             False   \n",
       "301858       False       False    False  False      False             False   \n",
       "301859       False       False    False  False      False             False   \n",
       "\n",
       "        datetime  screen  \n",
       "0          False   False  \n",
       "1          False   False  \n",
       "2          False   False  \n",
       "3          False   False  \n",
       "4          False   False  \n",
       "...          ...     ...  \n",
       "301855     False   False  \n",
       "301856     False   False  \n",
       "301857     False   False  \n",
       "301858     False   False  \n",
       "301859     False   False  \n",
       "\n",
       "[301861 rows x 8 columns]"
      ]
     },
     "execution_count": 114,
     "metadata": {},
     "output_type": "execute_result"
    }
   ],
   "source": [
    "# 인코딩에서 숫자로 변환되었던 항목값 \n",
    "class_cd = pd.Series(encoder.classes_).to_dict()\n",
    "\n",
    "print(encoder.classes_)\n",
    "\n",
    "# 결측치가 하나 이상 있는 Case만 선택\n",
    "df_ms_only = df_ms[df_ms.isna().any(axis=1)]\n",
    "# 결측치가 없는 Case만 선택\n",
    "df_ms_dropna = df_ms.dropna()\n",
    "\n",
    "# 평가에 필요한 칼럼만 뽑으면서, 동시에 인코딩 진행\n",
    "df_ms_only[ind_cols].apply(lambda x: encoder.fit_transform(x))\n",
    "# 학습모형에 집어 넣어 값 예측하기\n",
    "knn.predict(df_ms_only[ind_cols].apply(lambda x: encoder.fit_transform(x)))\n",
    "# 예측값 저장하기\n",
    "fill_na_values = knn.predict(df_ms_only[ind_cols].apply(lambda x: encoder.fit_transform(x)))\n",
    "\n",
    "# 결측치가 있는 곳에 예측값 집어 넣기\n",
    "df_ms_only['documentposition'] = fill_na_values\n",
    "\n",
    "# 인코딩된 칼럼값을 되돌리기\n",
    "df_ms_only['documentposition'] = df_ms_only['documentposition'].replace(class_cd)\n",
    "\n",
    "#원래 데이터에 합치기\n",
    "df_ms_final = pd.concat([df_ms_dropna, df_ms_only], axis=0)\n",
    "\n",
    "df_ms_final.isnull()"
   ]
  }
 ],
 "metadata": {
  "kernelspec": {
   "display_name": "Python 3",
   "language": "python",
   "name": "python3"
  },
  "language_info": {
   "codemirror_mode": {
    "name": "ipython",
    "version": 3
   },
   "file_extension": ".py",
   "mimetype": "text/x-python",
   "name": "python",
   "nbconvert_exporter": "python",
   "pygments_lexer": "ipython3",
   "version": "3.8.3"
  }
 },
 "nbformat": 4,
 "nbformat_minor": 4
}
