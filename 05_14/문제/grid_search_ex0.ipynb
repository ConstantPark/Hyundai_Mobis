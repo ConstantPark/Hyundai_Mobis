{
 "cells": [
  {
   "cell_type": "markdown",
   "metadata": {},
   "source": [
    "## 그리드 서치 (Grid Search) ##"
   ]
  },
  {
   "cell_type": "markdown",
   "metadata": {},
   "source": [
    "모든 경우의 수에 해당되는 파라미터를 for문을 사용하여 입력이 되는 형태로 구현"
   ]
  },
  {
   "cell_type": "code",
   "execution_count": 30,
   "metadata": {},
   "outputs": [
    {
     "name": "stdout",
     "output_type": "stream",
     "text": [
      "최고 점수: 0.97\n",
      "최적 매개변수: {'C': 100, 'gamma': 0.001}\n"
     ]
    }
   ],
   "source": [
    "from sklearn.datasets import load_iris\n",
    "from sklearn.svm import SVC\n",
    "from sklearn.model_selection import train_test_split\n",
    "\n",
    "# iris 데이터 셋을 사용하여 진행 (데이터 로드 및 데이터셋 분리)\n",
    "iris = load_iris()\n",
    "X_train, X_test, y_train, y_test = train_test_split(iris.data, iris.target, random_state=0)\n",
    "best_score = 0 # 가장 스코어가 좋은 경우를 저장하는 변수\n",
    "\n",
    "# 반복문을 사용하여 구현\n",
    "# 반복문에 해당되는 Configuration을 SVC에 대입하고, 결과를 비교하여 가장 좋은 경우를 찾음\n",
    "# gamma와 C는 각각 리스트 형태로 저장: gamma [0.001, 0.01, 0.1, 1, 10, 100], C [0.001, 0.01, 0.1, 1, 10, 100]\n",
    "for gamma in [0.001, 0.01, 0.1, 1, 10, 100]:\n",
    "    for C in [0.001, 0.01, 0.1, 1, 10, 100]:\n",
    "        svm = SVC(gamma=gamma, C=C)\n",
    "        svm.fit(X_train, y_train)\n",
    "        score = svm.score(X_test, y_test)\n",
    "        \n",
    "        # 계산된 스코어와 이전의 스코어를 비교하여 최적의 방법을 선택\n",
    "        if score > best_score:\n",
    "            best_score = score\n",
    "            best_parameters = {'C': C, 'gamma': gamma}\n",
    "print(\"최고 점수: {:.2f}\".format(best_score))\n",
    "print(\"최적 매개변수: {}\".format(best_parameters))\n"
   ]
  },
  {
   "cell_type": "markdown",
   "metadata": {},
   "source": [
    "GridSearchCV 함수는  그리드 서치를 사용하여 자동으로 복수개의 모형을 생성/실행하여 최적의 파라미터 탐색\n",
    "* Model estimator, 그리드 파라미터 (param_grid), 교차 검증을 위해 분할되는 폴드 수 (cv), 평가방법 (scoring)\n",
    "* 모든 경우의 수에 해당되는 파라미터를 dictionary 형태로 구현\n"
   ]
  },
  {
   "cell_type": "code",
   "execution_count": null,
   "metadata": {},
   "outputs": [],
   "source": [
    "from sklearn.datasets import load_iris \n",
    "from sklearn.tree import DecisionTreeClassifier \n",
    "from sklearn.model_selection import GridSearchCV \n",
    "from sklearn.model_selection import train_test_split\n",
    "import pandas as pd\n",
    "\n",
    "# 데이터를 로딩하고 학습데이타와 테스트 데이터 분리 \n",
    "iris_data = load_iris() \n",
    "X_train, X_test, y_train, y_test = train_test_split(iris_data.data, iris_data.target, test_size=0.2, random_state=121) \n",
    "dtree = DecisionTreeClassifier() \n",
    "\n",
    "### parameter 들을 dictionary 형태로 설정 \n",
    "parameters =  ? # max_depth [1,2,3], min_samples_split [2,3]\n",
    "\n",
    "# param_grid의 하이퍼 파라미터들을 3개의 train, test set fold 로 나누어서 테스트 수행 설정. \n",
    "### refit=True 가 default 임. True이면 가장 좋은 파라미터 설정으로 재 학습 시킴. \n",
    "grid_dtree = ? #폴드의 수는 3개, refit는 true로 학습\n",
    "\n",
    "# 붓꽃 Train 데이터로 param_grid의 하이퍼 파라미터들을 순차적으로 학습/평가 \n",
    "grid_dtree.fit(X_train, y_train) \n",
    "\n",
    "# GridSearchCV 결과 추출하여 DataFrame으로 변환 \n",
    "scores_df = pd.DataFrame(grid_dtree.cv_results_) \n",
    "scores_df[['params', 'mean_test_score', 'rank_test_score', \\ \n",
    "\t'split0_test_score', 'split1_test_score', 'split2_test_score']] \n"
   ]
  },
  {
   "cell_type": "markdown",
   "metadata": {},
   "source": [
    "GridSearchCV의 fit을 수행하면, 최고 성능의 하이퍼 파라미터와 그때의 평가 결과 값은 best_params_, best_score_ 속성에 기록\n",
    "* 최적의 성능을 보여주는 파라미터로 학습된 estimator는 best_estimator_로 저장되어 있음 (refit=True)\n",
    "* Predict 함수를 수행하여 특정 데이터 셋에 대한 평가를 진행하고, accuracy_score를 통해 정확도 확인 !\n"
   ]
  },
  {
   "cell_type": "code",
   "execution_count": null,
   "metadata": {},
   "outputs": [],
   "source": [
    "from sklearn.metrics import accuracy_score\n",
    "\n",
    "print('GridSearchCV 최적 파라미터:', grid_dtree.?)\n",
    "print('GridSearchCV 최고 정확도: {0:.4f}'.format(grid_dtree.?))\n",
    "\n",
    "# GridSearchCV의 refit으로 이미 학습이 된 estimator 반환\n",
    "estimator = ?\n",
    "\n",
    "# GridSearchCV의 best_estimator_는 이미 최적 하이퍼 파라미터로 학습이 됨\n",
    "pred = estimator.?(X_test)\n",
    "print('테스트 데이터 세트 정확도: {0:.4f}'.format(?(y_test,pred)))\n",
    "\n"
   ]
  },
  {
   "cell_type": "code",
   "execution_count": null,
   "metadata": {},
   "outputs": [],
   "source": []
  }
 ],
 "metadata": {
  "kernelspec": {
   "display_name": "Python 3",
   "language": "python",
   "name": "python3"
  },
  "language_info": {
   "codemirror_mode": {
    "name": "ipython",
    "version": 3
   },
   "file_extension": ".py",
   "mimetype": "text/x-python",
   "name": "python",
   "nbconvert_exporter": "python",
   "pygments_lexer": "ipython3",
   "version": "3.8.5"
  }
 },
 "nbformat": 4,
 "nbformat_minor": 4
}
