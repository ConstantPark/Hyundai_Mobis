{
 "cells": [
  {
   "cell_type": "markdown",
   "metadata": {},
   "source": [
    "필요한 패키지를 import합니다."
   ]
  },
  {
   "cell_type": "markdown",
   "metadata": {},
   "source": [
    "csv 파일을 읽기 위해서는 read_csv 함수를 사용합니다.\n",
    "1) csv 파일을 불러와 dataframe에 저장을 하고, 이전에 게산된 dataframe에 합칩니다.   \n",
    "2) 이때, concat/append을 사용하여 진행합니다.  \n",
    "3) conat (all_data1), all_data(append)  \n",
    "4) 계산이 최종적으로 끝나면, to_excel 함수를 사용하여 저장합니다.\n"
   ]
  },
  {
   "cell_type": "code",
   "execution_count": 1,
   "metadata": {},
   "outputs": [],
   "source": [
    "import pandas as pd\n",
    "import glob\n",
    "import xlrd\n",
    "import openpyxl\n",
    " \n",
    "#우선 모든 자료들을 raw data folder에 저장\n",
    "all_data = pd.DataFrame()\n",
    "all_data1 = pd.DataFrame()\n",
    "for f in glob.glob(\"rawdata/*.xlsx\"): #rawdata 디렉토리에 있는 xlsx파일들 불러옴\n",
    "    df=pd.?(f, sheet_name=None) \n",
    "    all_data1 = pd.?(df, ignore_index=True)\n",
    "    ?\n",
    "    print(all_data)\n",
    "all_data.?('합본.xlsx',encoding='utf-8-sig') #저장\n",
    "#엑셀로 저장하는게 오래 걸릴 때에는, csv로 저장할 수도 있습니다.\n",
    "#all_data.to_csv('합본.csv',encoding='utf-8-sig') "
   ]
  },
  {
   "cell_type": "markdown",
   "metadata": {},
   "source": []
  },
  {
   "cell_type": "code",
   "execution_count": 58,
   "metadata": {},
   "outputs": [
    {
     "name": "stdout",
     "output_type": "stream",
     "text": [
      "  c1  c2  c3\n",
      "0  a   1   1\n",
      "1  a   1   1\n",
      "2  b   1   2\n",
      "3  a   2   2\n",
      "4  b   2   2\n",
      "\n",
      "  c1  c2  c3\n",
      "0  a   1   1\n",
      "2  b   1   2\n",
      "3  a   2   2\n",
      "4  b   2   2\n",
      "  c1  c2  c3\n",
      "0  a   1   1\n",
      "1  a   1   1\n",
      "2  b   1   2\n",
      "3  a   2   2\n",
      "4  b   2   2\n",
      "\n",
      "  c1  c2  c3\n",
      "0  a   1   1\n",
      "2  b   1   2\n",
      "3  a   2   2\n",
      "4  b   2   2\n"
     ]
    }
   ],
   "source": [
    "for f in glob.glob(\"rawdata/*.xlsx\"): #rawdata 디렉토리에 있는 xlsx파일들 불러옴\n",
    "    df=pd.read_excel(f, sheet_name=None)\n",
    "    all_data1 = pd.concat(df, ignore_index=True)\n",
    "    all_data=all_data.append(all_data1,ignore_index=True)\n",
    "    print(all_data)\n",
    "all_data.to_excel('합본.xlsx',encoding='utf-8-sig') #저장\n",
    "#엑셀로 저장하는데 시간이 오래 걸릴 때에는, csv로 저장할 수도 있습니다.\n",
    "#all_data.to_csv('합본.csv',encoding='utf-8-sig') \n"
   ]
  }
 ],
 "metadata": {
  "kernelspec": {
   "display_name": "Python 3",
   "language": "python",
   "name": "python3"
  },
  "language_info": {
   "codemirror_mode": {
    "name": "ipython",
    "version": 3
   },
   "file_extension": ".py",
   "mimetype": "text/x-python",
   "name": "python",
   "nbconvert_exporter": "python",
   "pygments_lexer": "ipython3",
   "version": "3.8.5"
  }
 },
 "nbformat": 4,
 "nbformat_minor": 4
}
