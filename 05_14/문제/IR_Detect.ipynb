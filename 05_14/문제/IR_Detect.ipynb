{
 "cells": [
  {
   "attachments": {},
   "cell_type": "markdown",
   "metadata": {},
   "source": [
    "## 클래스 불균형 비율 (Imbalance Ratio, IR) ##"
   ]
  },
  {
   "attachments": {},
   "cell_type": "markdown",
   "metadata": {},
   "source": [
    "Pandas의 value_counts 함수를 사용하여 계산\n",
    "* 환자의 의료 기록을 바탕으로 환자가 5년 내에 사망할지 (2), 생존할지 (1) 분류하는데 사용\n",
    "* IR은 다수 클래스를 소수 클래스의 숫자로 나눈 값을 의미 !"
   ]
  },
  {
   "cell_type": "code",
   "execution_count": 1,
   "metadata": {},
   "outputs": [
    {
     "name": "stdout",
     "output_type": "stream",
     "text": [
      "<class 'pandas.core.series.Series'>\n",
      "1    225\n",
      "2     81\n",
      "Name: 3, dtype: int64\n",
      "다수 클래스:1, 소수 클래스:2, 불균형 비율: 2.7777777777777777\n"
     ]
    }
   ],
   "source": [
    "import pandas as pd \n",
    "\n",
    "# 환자기록 로드\n",
    "df = pd.read_csv('https://raw.githubusercontent.com/jbrownlee/Datasets/master/haberman.csv', header = None) \n",
    "X, Y = df.iloc[:, :-1], df.iloc[:, -1]\n",
    "\n",
    "# value_counts를 사용하여 Y변수의 분포를 확인\n",
    "print(type(Y.?)) \n",
    "print(Y.value_counts())\n",
    "\n",
    "majority_class = Y.value_counts().index[0] \n",
    "minority_class = Y.value_counts().index[-1] \n",
    "num_majority_samples = Y.value_counts().iloc[0] \n",
    "num_minority_samples = Y.value_counts().iloc[-1] \n",
    "IR = ? \n",
    "print(\"다수 클래스:{}, 소수 클래스:{}, 불균형 비율: {}\".format(majority_class, minority_class, IR))\n"
   ]
  },
  {
   "attachments": {},
   "cell_type": "markdown",
   "metadata": {},
   "source": [
    "학습 데이터를 사용하여 학습한 KNN의 모델의 재현율을 기준으로 평가\n",
    "* 소수 클래스 샘플 수에 비해 K가 너무 크면 클래스가 불균형 하더라도, 분류에 문제가 없는 데이터도 문제가 있다고 판단\n",
    "* K의 값을 3 또는 5로 설정하는 것이 바람직함"
   ]
  },
  {
   "cell_type": "code",
   "execution_count": null,
   "metadata": {},
   "outputs": [],
   "source": [
    "import pandas as pd \n",
    "from sklearn.neighbors import KNeighborsClassifier as KNN \n",
    "from sklearn.metrics import recall_score \n",
    "\n",
    "# 환자기록 로드\n",
    "df = pd.read_csv('https://raw.githubusercontent.com/jbrownlee/Datasets/master/haberman.csv', header = None) \n",
    "X, Y = df.iloc[:, :-1], df.iloc[:, -1]\n",
    "\n",
    "# 학습/평가 데이터 분리\n",
    "from sklearn.model_selection import train_test_split \n",
    "Train_X, Test_X, Train_Y, Test_Y = train_test_split(X, Y)\n",
    "\n",
    "# KNN 모델을 학습 (K=3)\n",
    "kNN = ?(?).fit(Train_X, Train_Y)\n",
    "\n",
    "# 재현율을 기준으로 평가\n",
    "Y_hat = kNN.?(Test_X) \n",
    "kNN_recall = ?(Test_Y, Y_hat) # 재현율을 기준으로 평가 !\n",
    "print(kNN_recall)\n"
   ]
  }
 ],
 "metadata": {
  "kernelspec": {
   "display_name": "Python 3",
   "language": "python",
   "name": "python3"
  },
  "language_info": {
   "codemirror_mode": {
    "name": "ipython",
    "version": 3
   },
   "file_extension": ".py",
   "mimetype": "text/x-python",
   "name": "python",
   "nbconvert_exporter": "python",
   "pygments_lexer": "ipython3",
   "version": "3.8.3"
  }
 },
 "nbformat": 4,
 "nbformat_minor": 4
}
