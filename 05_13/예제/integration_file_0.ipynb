{
 "cells": [
  {
   "cell_type": "markdown",
   "metadata": {},
   "source": [
    "필요한 패키지를 import합니다."
   ]
  },
  {
   "cell_type": "code",
   "execution_count": 68,
   "metadata": {},
   "outputs": [],
   "source": [
    "import pandas as pd\n",
    "import glob\n",
    "import xlrd\n",
    "import openpyxl\n",
    " \n",
    "#우선 모든 자료들을 raw data folder에 저장\n",
    "all_data = pd.DataFrame()\n",
    "all_data1 = pd.DataFrame()\n",
    "for f in glob.glob(\"rawdata/*.xlsx\"): #rawdata 디렉토리에 있는 xlsx파일들 불러옴\n",
    "    df=pd.read_excel(f, sheet_name=None)\n",
    "    all_data1 = pd.concat(df, ignore_index=True)\n",
    "    all_data=all_data.append(all_data1,ignore_index=True)\n",
    "    print(all_data)\n",
    "all_data.to_excel('합본.xlsx',encoding='utf-8-sig') #저장\n",
    "#엑셀로 저장하는게 오래 걸릴 때에는, csv로 저장할 수도 있습니다.\n",
    "#all_data.to_csv('합본.csv',encoding='utf-8-sig') "
   ]
  },
  {
   "attachments": {},
   "cell_type": "markdown",
   "metadata": {},
   "source": [
    "* 데이터 프레임에서 중복이 발생하는 행을 제거하세요 (Q1)\n",
    "* 데이터 프레임에서 c2, c3열을 기준으로 중복 행을 제거하세요 (Q2)\n",
    "* 특정 열을 기준으로 중복행을 제거하기 위해서는 subset=[column1, column2 ] 옵션을 사용합니다\n",
    "* 제거한 이후, df3에 저장하고 출력하세요"
   ]
  },
  {
   "cell_type": "code",
   "execution_count": 58,
   "metadata": {},
   "outputs": [
    {
     "name": "stdout",
     "output_type": "stream",
     "text": [
      "  c1  c2  c3\n",
      "0  a   1   1\n",
      "1  a   1   1\n",
      "2  b   1   2\n",
      "3  a   2   2\n",
      "4  b   2   2\n",
      "\n",
      "  c1  c2  c3\n",
      "0  a   1   1\n",
      "2  b   1   2\n",
      "3  a   2   2\n",
      "4  b   2   2\n",
      "  c1  c2  c3\n",
      "0  a   1   1\n",
      "1  a   1   1\n",
      "2  b   1   2\n",
      "3  a   2   2\n",
      "4  b   2   2\n",
      "\n",
      "  c1  c2  c3\n",
      "0  a   1   1\n",
      "2  b   1   2\n",
      "3  a   2   2\n",
      "4  b   2   2\n"
     ]
    }
   ],
   "source": [
    "for f in glob.glob(\"rawdata/*.xlsx\"): #rawdata 디렉토리에 있는 xlsx파일들 불러옴\n",
    "    df=pd.read_excel(f, sheet_name=None)\n",
    "    all_data1 = pd.concat(df, ignore_index=True)\n",
    "    all_data=all_data.append(all_data1,ignore_index=True)\n",
    "    print(all_data)\n",
    "all_data.to_excel('합본.xlsx',encoding='utf-8-sig') #저장\n",
    "#엑셀로 저장하는데 시간이 오래 걸릴 때에는, csv로 저장할 수도 있습니다.\n",
    "#all_data.to_csv('합본.csv',encoding='utf-8-sig') \n"
   ]
  }
 ],
 "metadata": {
  "kernelspec": {
   "display_name": "Python 3",
   "language": "python",
   "name": "python3"
  },
  "language_info": {
   "codemirror_mode": {
    "name": "ipython",
    "version": 3
   },
   "file_extension": ".py",
   "mimetype": "text/x-python",
   "name": "python",
   "nbconvert_exporter": "python",
   "pygments_lexer": "ipython3",
   "version": "3.8.3"
  }
 },
 "nbformat": 4,
 "nbformat_minor": 4
}
