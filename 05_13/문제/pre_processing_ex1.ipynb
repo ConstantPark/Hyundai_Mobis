{
 "cells": [
  {
   "cell_type": "markdown",
   "metadata": {},
   "source": [
    "필요한 패키지를 로드합니다."
   ]
  },
  {
   "cell_type": "code",
   "execution_count": 25,
   "metadata": {},
   "outputs": [],
   "source": [
    "from pandas import DataFrame \n",
    "import numpy as np "
   ]
  },
  {
   "cell_type": "markdown",
   "metadata": {},
   "source": [
    "데이터 프레임을 생성하고, 데이터 프레임을 확인합니다."
   ]
  },
  {
   "cell_type": "code",
   "execution_count": 22,
   "metadata": {},
   "outputs": [
    {
     "name": "stdout",
     "output_type": "stream",
     "text": [
      "     종목코드    종목명    현재가\n",
      "0  037730     3R  1.510\n",
      "1  036360  3SOFT  1.790\n",
      "2  005760   ACTS  1.185\n"
     ]
    }
   ],
   "source": [
    "data = [[\"037730\", \"3R\", '1.510'], \n",
    "    [\"036360\", \"3SOFT\", '1.790'], \n",
    "    [\"005760\", \"ACTS\", '1.185']]\n",
    "\n",
    "columns = [\"종목코드\", \"종목명\", \"현재가\"] \n",
    "df = DataFrame(data=data, columns=columns) \n",
    "print(df)"
   ]
  },
  {
   "cell_type": "markdown",
   "metadata": {},
   "source": [
    "속도라는 숫자형 데이터에 범주형 데이터가 포함되어 있다면 데이터 타입을 올바르게 수정해야 합니다.  \n",
    "이러한 데이터 타입을 변경하기 위해서는 pandas.astype() 함수를 사용합니다."
   ]
  },
  {
   "cell_type": "code",
   "execution_count": 27,
   "metadata": {},
   "outputs": [
    {
     "name": "stdout",
     "output_type": "stream",
     "text": [
      "     종목코드    종목명    현재가\n",
      "0  037730     3R  1.510\n",
      "1  036360  3SOFT  1.790\n",
      "2  005760   ACTS  1.185\n"
     ]
    }
   ],
   "source": [
    "# 현재가 속성 변경\n",
    "df =?({'현재가': np.float64})\n",
    "print(df)"
   ]
  }
 ],
 "metadata": {
  "kernelspec": {
   "display_name": "Python 3",
   "language": "python",
   "name": "python3"
  },
  "language_info": {
   "codemirror_mode": {
    "name": "ipython",
    "version": 3
   },
   "file_extension": ".py",
   "mimetype": "text/x-python",
   "name": "python",
   "nbconvert_exporter": "python",
   "pygments_lexer": "ipython3",
   "version": "3.8.3"
  }
 },
 "nbformat": 4,
 "nbformat_minor": 4
}
