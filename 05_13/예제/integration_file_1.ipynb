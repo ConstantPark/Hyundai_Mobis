{
 "cells": [
  {
   "cell_type": "markdown",
   "metadata": {},
   "source": [
    "필요한 패키지를 import합니다."
   ]
  },
  {
   "cell_type": "code",
   "execution_count": 70,
   "metadata": {},
   "outputs": [
    {
     "name": "stdout",
     "output_type": "stream",
     "text": [
      "     이름  나이\n",
      "0   라이언  22\n",
      "1   포로리  33\n",
      "2  도라에몽  19\n",
      "3   아라찌  24\n",
      "     이름  나이\n",
      "0   라이언  22\n",
      "1   포로리  33\n",
      "2  도라에몽  19\n",
      "3   아라찌  24\n",
      "4   비둘기  35\n",
      "5   어피치  49\n",
      "6   김강철  11\n",
      "      이름  나이\n",
      "0    라이언  22\n",
      "1    포로리  33\n",
      "2   도라에몽  19\n",
      "3    아라찌  24\n",
      "4    비둘기  35\n",
      "5    어피치  49\n",
      "6    김강철  11\n",
      "7   김구구﻿  43\n",
      "8    이구구  32\n",
      "9    박구구  29\n",
      "10   구구구  11\n"
     ]
    }
   ],
   "source": [
    "import pandas as pd\n",
    "import glob\n",
    "import xlrd\n",
    "import openpyxl\n",
    " \n",
    "#우선 모든 자료들을 raw data folder에 저장\n",
    "all_data = pd.DataFrame()\n",
    "all_data1 = pd.DataFrame()\n"
   ]
  },
  {
   "attachments": {},
   "cell_type": "markdown",
   "metadata": {},
   "source": [
    "raw폴더에 존재하는 모든 xlsx 파일을 병합합니다."
   ]
  },
  {
   "cell_type": "code",
   "execution_count": 71,
   "metadata": {},
   "outputs": [
    {
     "name": "stdout",
     "output_type": "stream",
     "text": [
      "      이름  나이\n",
      "0    라이언  22\n",
      "1    포로리  33\n",
      "2   도라에몽  19\n",
      "3    아라찌  24\n",
      "4    비둘기  35\n",
      "5    어피치  49\n",
      "6    김강철  11\n",
      "7   김구구﻿  43\n",
      "8    이구구  32\n",
      "9    박구구  29\n",
      "10   구구구  11\n",
      "11   라이언  22\n",
      "12   포로리  33\n",
      "13  도라에몽  19\n",
      "14   아라찌  24\n",
      "      이름  나이\n",
      "0    라이언  22\n",
      "1    포로리  33\n",
      "2   도라에몽  19\n",
      "3    아라찌  24\n",
      "4    비둘기  35\n",
      "5    어피치  49\n",
      "6    김강철  11\n",
      "7   김구구﻿  43\n",
      "8    이구구  32\n",
      "9    박구구  29\n",
      "10   구구구  11\n",
      "11   라이언  22\n",
      "12   포로리  33\n",
      "13  도라에몽  19\n",
      "14   아라찌  24\n",
      "15   비둘기  35\n",
      "16   어피치  49\n",
      "17   김강철  11\n",
      "      이름  나이\n",
      "0    라이언  22\n",
      "1    포로리  33\n",
      "2   도라에몽  19\n",
      "3    아라찌  24\n",
      "4    비둘기  35\n",
      "5    어피치  49\n",
      "6    김강철  11\n",
      "7   김구구﻿  43\n",
      "8    이구구  32\n",
      "9    박구구  29\n",
      "10   구구구  11\n",
      "11   라이언  22\n",
      "12   포로리  33\n",
      "13  도라에몽  19\n",
      "14   아라찌  24\n",
      "15   비둘기  35\n",
      "16   어피치  49\n",
      "17   김강철  11\n",
      "18  김구구﻿  43\n",
      "19   이구구  32\n",
      "20   박구구  29\n",
      "21   구구구  11\n"
     ]
    }
   ],
   "source": [
    "for f in glob.glob(\"raw/*.xlsx\"): #rawdata 디렉토리에 있는 xlsx파일들 불러옴\n",
    "    df=pd.read_excel(f, sheet_name=None)\n",
    "    all_data1 = pd.concat(df, ignore_index=True)\n",
    "    all_data=all_data.append(all_data1,ignore_index=True)\n",
    "    print(all_data)\n",
    "all_data.to_excel('합본.xlsx',encoding='utf-8-sig') #저장\n",
    "#엑셀로 저장하는게 오래 걸릴 때에는, csv로 저장할 수도 있습니다.\n",
    "#all_data.to_csv('합본.csv',encoding='utf-8-sig') "
   ]
  }
 ],
 "metadata": {
  "kernelspec": {
   "display_name": "Python 3",
   "language": "python",
   "name": "python3"
  },
  "language_info": {
   "codemirror_mode": {
    "name": "ipython",
    "version": 3
   },
   "file_extension": ".py",
   "mimetype": "text/x-python",
   "name": "python",
   "nbconvert_exporter": "python",
   "pygments_lexer": "ipython3",
   "version": "3.8.3"
  }
 },
 "nbformat": 4,
 "nbformat_minor": 4
}
