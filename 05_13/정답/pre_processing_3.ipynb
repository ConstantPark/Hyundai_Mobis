{
 "cells": [
  {
   "cell_type": "markdown",
   "metadata": {},
   "source": [
    "필요한 패키지를 로드합니다."
   ]
  },
  {
   "cell_type": "code",
   "execution_count": 30,
   "metadata": {},
   "outputs": [],
   "source": [
    "import pandas as pd"
   ]
  },
  {
   "cell_type": "markdown",
   "metadata": {},
   "source": [
    "넘파이 배열을 생성하고, 배열을 확인합니다."
   ]
  },
  {
   "cell_type": "code",
   "execution_count": 29,
   "metadata": {},
   "outputs": [
    {
     "data": {
      "text/plain": [
       "array([[ 6, 27,  6,  5,  7],\n",
       "       [ 1, 20, 27,  7, 15],\n",
       "       [ 1, 25,  3,  3, 17],\n",
       "       [26,  1,  8,  8,  6],\n",
       "       [ 1, 20,  8,  7, 17],\n",
       "       [ 3, 11, 19, 28, 28]])"
      ]
     },
     "execution_count": 29,
     "metadata": {},
     "output_type": "execute_result"
    }
   ],
   "source": [
    "left = pd.DataFrame({'key': ['foo', 'foo'], 'lval': [1, 2]}) \n",
    "right = pd.DataFrame({'key': ['foo', 'foo'], 'rval': [4, 5]}) \n",
    "\n",
    "print(left) \n",
    "print(right) \n"
   ]
  },
  {
   "attachments": {},
   "cell_type": "markdown",
   "metadata": {},
   "source": [
    "pandas에서 데이터 프레임을 합칠때는 merge와 concat 함수를 사용하\n",
    "pd.merge(df_left, df_right, how='inner', on=None)\n",
    "pd.concat(objs, axis=0, join='outer’)\n"
   ]
  },
  {
   "cell_type": "code",
   "execution_count": 32,
   "metadata": {},
   "outputs": [
    {
     "name": "stdout",
     "output_type": "stream",
     "text": [
      "[[-0.03713907  1.08835061 -0.6948768  -0.55821656 -1.09203781]\n",
      " [-0.59422508  0.30023465  1.80667967 -0.31898089  0.        ]\n",
      " [-0.59422508  0.86317462 -1.05224201 -0.79745222  0.27300945]\n",
      " [ 2.19120499 -1.83893723 -0.45663332 -0.19936306 -1.22854254]\n",
      " [-0.59422508  0.30023465 -0.45663332 -0.31898089  0.27300945]\n",
      " [-0.37139068 -0.71305729  0.85370578  2.19299361  1.77456145]]\n"
     ]
    }
   ],
   "source": [
    "print(?(left, right, ?))\n"
   ]
  }
 ],
 "metadata": {
  "kernelspec": {
   "display_name": "Python 3",
   "language": "python",
   "name": "python3"
  },
  "language_info": {
   "codemirror_mode": {
    "name": "ipython",
    "version": 3
   },
   "file_extension": ".py",
   "mimetype": "text/x-python",
   "name": "python",
   "nbconvert_exporter": "python",
   "pygments_lexer": "ipython3",
   "version": "3.8.3"
  }
 },
 "nbformat": 4,
 "nbformat_minor": 4
}
