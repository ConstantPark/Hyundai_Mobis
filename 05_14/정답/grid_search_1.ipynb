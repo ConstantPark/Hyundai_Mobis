{
 "cells": [
  {
   "cell_type": "markdown",
   "metadata": {},
   "source": [
    "## 그리드 서치 (Grid Search)와 교차검증 (Cross Validation) ##"
   ]
  },
  {
   "cell_type": "markdown",
   "metadata": {},
   "source": [
    "GridSearchCV(estimator, param_grid, scoring, cv, refit)\n",
    "* Estimator: classifier, regressor, pipeline등이 사용 될 수 있음\n",
    "* Param_id (파라미터 딕셔너리), cv (교차 검증을 위해 분할되는 폴드 숫자)"
   ]
  },
  {
   "cell_type": "code",
   "execution_count": null,
   "metadata": {},
   "outputs": [],
   "source": [
    "from sklearn.datasets import load_iris \n",
    "from sklearn.model_selection import train_test_split\n",
    "from sklearn.svm import SVC\n",
    "\n",
    "# 매개변수 그리드 만들기\n",
    "param_grid = {'C': [0.001, 0.01, 0.1, 1, 10, 100],\n",
    "              'gamma': [0.001, 0.01, 0.1, 1, 10, 100]}\n",
    "print(\"매개변수 그리드:\\n\", param_grid)\n",
    "\n",
    "# GridSearchCV를 이용하여 교차검증 그리드 객체 만들기\n",
    "from sklearn.model_selection import GridSearchCV\n",
    "from sklearn.svm import SVC\n",
    "grid_search = GridSearchCV(SVC(), param_grid, cv=5, return_train_score=True)\n",
    "# GridSearchCV(모델, 검색 대상 매개변수 그리드, cv=몇번 교차검증, return_train_score=True)\n",
    "\n",
    "# 데이터 나누기 훈련/테스트\n",
    "X_train, X_test, y_train, y_test = train_test_split(iris.data, iris.target,random_state=0)\n",
    "\n",
    "# 최적의 매개변수로 전체 훈련 데이터 세트에 대한 새로운 모델을 자동으로 만듬\n",
    "grid_search.fit(X_train, y_train)\n",
    "\n",
    "# 최적의 매개변수를 사용한 모델의 테스트 정확도 확인\n",
    "print(\"테스트 세트 점수: {:.2f}\".format(grid_search.score(X_test, y_test)))\n",
    "\n",
    "# 최적 매개변수 (테스트 사용되지 않음)\n",
    "print(\"최적 매개변수:\", grid_search.best_params_)\n",
    "\n",
    "# 최상의 교차 검증 정확도 (테스트 사용되지 않음)\n",
    "print(\"최고 교차 검증 점수: {:.2f}\".format(grid_search.best_score_))\n",
    "\n",
    "# 최고 성능의 모델 구성 요소 확인\n",
    "print(\"최고 성능 모델:\\n\", grid_search.best_estimator_)\n"
   ]
  },
  {
   "cell_type": "markdown",
   "metadata": {},
   "source": [
    "랜덤 서치 (Random Search)\n",
    "* 그리드 서치는 모든 경우를 테이블로 만든 뒤, 격자로 탐색하는 방식\n",
    "* 랜덤 서치는 하이퍼 파라미터 값을 랜덤하게 넣어보고 그중 우수한 값을 보인 하이퍼 파리미터를 활용하여 모델 생성\n"
   ]
  },
  {
   "cell_type": "markdown",
   "metadata": {},
   "source": [
    "랜덤 서치 (Random Search): RandomizedSearchCV 함수\n",
    "* 그리드 서치와 유사한 사용법, n_iter (몇 번 반복하여 수행할 것인지를 명시)\n",
    "* 각 반복마다 하이퍼 파리미터에 랜덤으로 대입하여 지정한 횟수만큼 평가\n",
    "* 하이퍼 파라미터 탐색 공간이 커질 경우 사용하면 좋은 효과를 얻는 것 가능\n"
   ]
  },
  {
   "cell_type": "code",
   "execution_count": null,
   "metadata": {},
   "outputs": [],
   "source": [
    "from sklearn.datasets import load_iris \n",
    "from sklearn.model_selection import train_test_split\n",
    "from sklearn.model_selection import GridSearchCV\n",
    "from sklearn.svm import SVC\n",
    "\n",
    "# 매개변수 그리드 만들기\n",
    "param_grid = {'C': [0.001, 0.01, 0.1, 1, 10, 100],\n",
    "              'gamma': [0.001, 0.01, 0.1, 1, 10, 100]}\n",
    "\n",
    "# GridSearchCV를 이용하여 교차검증 그리드 객체 만들기 (10번 반복, k_fold=5)\n",
    "random_search = ?(SVC(), param_grid, ?, ?, return_train_score=True)\n",
    "\n",
    "# 데이터 나누기 훈련/테스트\n",
    "X_train, X_test, y_train, y_test = ?(iris.data, iris.target,random_state=0)\n",
    "\n",
    "# 최적의 매개변수로 전체 훈련 데이터 세트에 대한 새로운 모델을 자동으로 만듬\n",
    "random_search.?(X_train, y_train)\n",
    "\n",
    "df = pd.DataFrame(random_search.cv_results_).sort_values(by=['mean_test_score', 'mean_train_score'], ascending=False)\n",
    "print(df[['params', 'mean_train_score', 'mean_test_score']])\n"
   ]
  },
  {
   "cell_type": "code",
   "execution_count": null,
   "metadata": {},
   "outputs": [],
   "source": []
  }
 ],
 "metadata": {
  "kernelspec": {
   "display_name": "Python 3",
   "language": "python",
   "name": "python3"
  },
  "language_info": {
   "codemirror_mode": {
    "name": "ipython",
    "version": 3
   },
   "file_extension": ".py",
   "mimetype": "text/x-python",
   "name": "python",
   "nbconvert_exporter": "python",
   "pygments_lexer": "ipython3",
   "version": "3.8.3"
  }
 },
 "nbformat": 4,
 "nbformat_minor": 4
}
