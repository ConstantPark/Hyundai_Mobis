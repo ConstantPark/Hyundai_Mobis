{
 "cells": [
  {
   "cell_type": "markdown",
   "metadata": {},
   "source": [
    "필요한 패키지를 import합니다."
   ]
  },
  {
   "cell_type": "code",
   "execution_count": 9,
   "metadata": {},
   "outputs": [],
   "source": [
    "import pandas as pd\n",
    "import glob\n",
    "import xlrd\n",
    "import openpyxl\n",
    " \n",
    "#우선 모든 자료들을 raw data folder에 저장\n",
    "all_data = pd.DataFrame()\n",
    "all_data1 = pd.DataFrame()\n"
   ]
  },
  {
   "cell_type": "markdown",
   "metadata": {},
   "source": [
    "raw폴더에 존재하는 모든 xlsx 파일을 병합합니다.  \n",
    "파일의 컬럼의 값이 다른 경우는 키/밸류 형태의 딕셔너리를 사용하여 이를 인식할 수 있도록 합니다.  \n",
    "\"Gener\"는 \"성별\", \"Age\"는 \"나이\", \"Name\"은 \"이름\"에 해당되도록 합니다 !"
   ]
  },
  {
   "cell_type": "code",
   "execution_count": 20,
   "metadata": {},
   "outputs": [
    {
     "ename": "SyntaxError",
     "evalue": "invalid syntax (<ipython-input-20-55b0ee8e7db1>, line 4)",
     "output_type": "error",
     "traceback": [
      "\u001b[0;36m  File \u001b[0;32m\"<ipython-input-20-55b0ee8e7db1>\"\u001b[0;36m, line \u001b[0;32m4\u001b[0m\n\u001b[0;31m    all_data1.rename(columns={?},inplace=True) #추가된 부분\u001b[0m\n\u001b[0m                              ^\u001b[0m\n\u001b[0;31mSyntaxError\u001b[0m\u001b[0;31m:\u001b[0m invalid syntax\n"
     ]
    }
   ],
   "source": [
    "\n",
    "for f in glob.glob(\"rawdata/*.xlsx\"): #rawdata 디렉토리에 있는 xlsx파일들 불러옴\n",
    "    df=pd.read_csv(f, sheet_name=None) \n",
    "    all_data1 = pd.concat(df, ignore_index=True)\n",
    "    all_data1.rename(columns={?},inplace=True) #추가된 부분\n",
    "    all_data=all_data.append(all_data1,ignore_index=True)\n",
    "    print(all_data)\n",
    "    \n",
    "all_data.to_excel('합본.xlsx',encoding='utf-8-sig') #저장\n"
   ]
  }
 ],
 "metadata": {
  "kernelspec": {
   "display_name": "Python 3",
   "language": "python",
   "name": "python3"
  },
  "language_info": {
   "codemirror_mode": {
    "name": "ipython",
    "version": 3
   },
   "file_extension": ".py",
   "mimetype": "text/x-python",
   "name": "python",
   "nbconvert_exporter": "python",
   "pygments_lexer": "ipython3",
   "version": "3.8.5"
  }
 },
 "nbformat": 4,
 "nbformat_minor": 4
}
