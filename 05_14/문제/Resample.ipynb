{
 "cells": [
  {
   "cell_type": "markdown",
   "metadata": {},
   "source": [
    "## 언더샘플링 (Under Sampling) ##"
   ]
  },
  {
   "cell_type": "markdown",
   "metadata": {},
   "source": [
    "데이터의 분포가 높은 값을 낮은 값으로 맞춰주는 작업\n",
    "* 유의미한 데이터만을 남길 수 있지만, 정보가 유실되는 문제 존재\n",
    "* 랜덤 샘플링, 토멕 링크 (Tomek link), CNN (Condensed nearest neighbor) 등의 방법 사용 "
   ]
  },
  {
   "cell_type": "code",
   "execution_count": 3,
   "metadata": {},
   "outputs": [
    {
     "ename": "NameError",
     "evalue": "name 'X_imb' is not defined",
     "output_type": "error",
     "traceback": [
      "\u001b[1;31m---------------------------------------------------------------------------\u001b[0m",
      "\u001b[1;31mNameError\u001b[0m                                 Traceback (most recent call last)",
      "\u001b[1;32m<ipython-input-3-0bd9c3138606>\u001b[0m in \u001b[0;36m<module>\u001b[1;34m\u001b[0m\n\u001b[0;32m      3\u001b[0m \u001b[1;32mfrom\u001b[0m \u001b[0mimblearn\u001b[0m\u001b[1;33m.\u001b[0m\u001b[0munder_sampling\u001b[0m \u001b[1;32mimport\u001b[0m \u001b[0mRandomUnderSampler\u001b[0m\u001b[1;33m\u001b[0m\u001b[1;33m\u001b[0m\u001b[0m\n\u001b[0;32m      4\u001b[0m \u001b[1;33m\u001b[0m\u001b[0m\n\u001b[1;32m----> 5\u001b[1;33m \u001b[0mX_samp\u001b[0m\u001b[1;33m,\u001b[0m \u001b[0my_samp\u001b[0m \u001b[1;33m=\u001b[0m \u001b[0mRandomUnderSampler\u001b[0m\u001b[1;33m(\u001b[0m\u001b[0mrandom_state\u001b[0m\u001b[1;33m=\u001b[0m\u001b[1;36m0\u001b[0m\u001b[1;33m)\u001b[0m\u001b[1;33m.\u001b[0m\u001b[0mfit\u001b[0m\u001b[1;33m(\u001b[0m\u001b[0mX_imb\u001b[0m\u001b[1;33m,\u001b[0m \u001b[0my_imb\u001b[0m\u001b[1;33m)\u001b[0m\u001b[1;33m\u001b[0m\u001b[1;33m\u001b[0m\u001b[0m\n\u001b[0m\u001b[0;32m      6\u001b[0m \u001b[1;33m\u001b[0m\u001b[0m\n\u001b[0;32m      7\u001b[0m \u001b[0mplt\u001b[0m\u001b[1;33m.\u001b[0m\u001b[0msubplot\u001b[0m\u001b[1;33m(\u001b[0m\u001b[1;36m121\u001b[0m\u001b[1;33m)\u001b[0m\u001b[1;33m\u001b[0m\u001b[1;33m\u001b[0m\u001b[0m\n",
      "\u001b[1;31mNameError\u001b[0m: name 'X_imb' is not defined"
     ]
    }
   ],
   "source": [
    "# 클래스 불균형 처리를 해주는 imbalanced-learn를 호출\n",
    "from imblearn.over_sampling import RandomOverSampler\n",
    "from imblearn.under_sampling import RandomUnderSampler\n",
    "\n",
    "X_samp, y_samp = RandomUnderSampler(random_state=0).fit(X_imb, y_imb) \n",
    "\n",
    "plt.subplot(121) \n",
    "classification_result2(X_imb, y_imb) \n",
    "plt.subplot(122) \n",
    "model_samp = classification_result2(X_samp, y_samp)\n",
    "\n",
    "print(classification_report(y_imb, model_samp.predict(X_imb)))\n"
   ]
  },
  {
   "cell_type": "markdown",
   "metadata": {},
   "source": [
    "Roc곡선은 양성으로 잘못판단한 것(FPR)에 의한 진짜 양성의 비율 함수(TNR)\n",
    "* roc_curve 함수를 사용하여 계산\n",
    "Confusion 행렬은 다양한 정보를 확인하는 방법\n",
    "* confusion_matrix를 사용하여 계산"
   ]
  },
  {
   "cell_type": "code",
   "execution_count": 20,
   "metadata": {},
   "outputs": [
    {
     "name": "stdout",
     "output_type": "stream",
     "text": [
      "              precision    recall  f1-score   support\n",
      "\n",
      "         0.0       0.86      0.83      0.84       200\n",
      "         1.0       0.84      0.86      0.85       200\n",
      "\n",
      "    accuracy                           0.85       400\n",
      "   macro avg       0.85      0.85      0.85       400\n",
      "weighted avg       0.85      0.85      0.85       400\n",
      "\n",
      "              precision    recall  f1-score   support\n",
      "\n",
      "         0.0       0.96      0.98      0.97       200\n",
      "         1.0       0.75      0.60      0.67        20\n",
      "\n",
      "    accuracy                           0.95       220\n",
      "   macro avg       0.86      0.79      0.82       220\n",
      "weighted avg       0.94      0.95      0.94       220\n",
      "\n"
     ]
    },
    {
     "data": {
      "image/png": "[encoded data removed]",
      "text/plain": [
       "<Figure size 432x288 with 1 Axes>"
      ]
     },
     "metadata": {
      "needs_background": "light"
     },
     "output_type": "display_data"
    }
   ],
   "source": [
    "from sklearn.metrics import classification_report, confusion_matrix \n",
    "print(classification_report(y1, y_pred1)) \n",
    "print(classification_report(y2, y_pred2))\n",
    "\n",
    "from sklearn.metrics import roc_curve, confusion_matrix \n",
    "fpr1, tpr1, thresholds1 = ?(y1, model1.decision_function(X1)) \n",
    "fpr2, tpr2, thresholds2 = ?(y2, model2.decision_function(X2)) \n",
    "\n",
    "c1 = ?(y1, y_pred1, labels=[1, 0]) \n",
    "c2 = ?(y2, y_pred2, labels=[1, 0]) \n",
    "r1 = c1[0, 0] / (c1[0, 0] + c1[0, 1]) \n",
    "r2 = c2[0, 0] / (c2[0, 0] + c2[0, 1]) \n",
    "f1 = c1[1, 0] / (c1[1, 0] + c1[1, 1]) \n",
    "f2 = c2[1, 0] / (c2[1, 0] + c2[1, 1]) \n",
    "\n",
    "plt.plot(fpr1, tpr1, ':', label=\"Symmetry\") \n",
    "plt.plot(fpr2, tpr2, '-', label=\"Asymmetry\") \n",
    "plt.plot([f1], [r1], 'ro') \n",
    "plt.plot([f2], [r2], 'ro') \n",
    "plt.legend()\n",
    "plt.xlabel('Fall-Out')\n",
    "plt.ylabel('Recall') \n",
    "plt.title('ROC Curve') \n",
    "plt.show()\n"
   ]
  }
 ],
 "metadata": {
  "kernelspec": {
   "display_name": "Python 3",
   "language": "python",
   "name": "python3"
  },
  "language_info": {
   "codemirror_mode": {
    "name": "ipython",
    "version": 3
   },
   "file_extension": ".py",
   "mimetype": "text/x-python",
   "name": "python",
   "nbconvert_exporter": "python",
   "pygments_lexer": "ipython3",
   "version": "3.8.3"
  }
 },
 "nbformat": 4,
 "nbformat_minor": 4
}
