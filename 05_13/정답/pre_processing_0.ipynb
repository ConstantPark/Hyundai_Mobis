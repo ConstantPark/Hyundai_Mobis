{
 "cells": [
  {
   "cell_type": "markdown",
   "metadata": {},
   "source": [
    "**단계 1:** 전처리에 사용할 패키지 로드"
   ]
  },
  {
   "cell_type": "code",
   "execution_count": 3,
   "metadata": {},
   "outputs": [],
   "source": [
    "import numpy as np \n",
    "import pandas as pd \n",
    "import matplotlib.pyplot as plt \n",
    "import seaborn as sns \n",
    "color = sns.color_palette() \n",
    "sns.set_style('darkgrid')"
   ]
  },
  {
   "cell_type": "markdown",
   "metadata": {},
   "source": [
    "**단계 2:** 학습에 사용할 데이터 불러오기"
   ]
  },
  {
   "cell_type": "code",
   "execution_count": 5,
   "metadata": {},
   "outputs": [],
   "source": [
    "df=pd.read_csv('./Data USA Cart.csv')"
   ]
  },
  {
   "cell_type": "markdown",
   "metadata": {},
   "source": [
    "**단계 3:** 결측값을 정제할 함수"
   ]
  },
  {
   "cell_type": "code",
   "execution_count": 18,
   "metadata": {},
   "outputs": [
    {
     "data": {
      "text/plain": [
       "ID Geography         False\n",
       "Geography            False\n",
       "Population (2013)     True\n",
       "Population (2014)     True\n",
       "Population (2015)     True\n",
       "Population (2016)     True\n",
       "Population (2017)     True\n",
       "dtype: bool"
      ]
     },
     "execution_count": 18,
     "metadata": {},
     "output_type": "execute_result"
    }
   ],
   "source": [
    "# 데이터를 불러오고 가정 먼저 해야할 일은 데이터의 존재 여부를 확인하는 것입니다.\n",
    "# 데이터의 존재 유무를 확인합니다.\n",
    "# apply는 원하는 함수를 데이터에 적용해주는 역활을 하고, lmabda x는 임시로 함수를 만들때 사용합니다.\n",
    "# 만든 함수는 any()이고, isnull()은 그대로 값이 있으면 false, 없으면 true를 반환합니다.\n",
    "df.apply(lambda x: any(x.isnull()))"
   ]
  },
  {
   "cell_type": "markdown",
   "metadata": {},
   "source": [
    "**단계 4:** 결측값 제거"
   ]
  },
  {
   "cell_type": "code",
   "execution_count": 17,
   "metadata": {},
   "outputs": [],
   "source": [
    "# null값을 제거하기 위해 dropna() 함수를 사용합니다. \n",
    "# dropna()에는 how라는 옵션이 존재하며, how='any'는 하나라도 NAN가 있으면 열 또는 행을 모두 제거합니다\n",
    "df_2=df.dropna(axis=0, how='any')"
   ]
  }
 ],
 "metadata": {
  "kernelspec": {
   "display_name": "Python 3",
   "language": "python",
   "name": "python3"
  },
  "language_info": {
   "codemirror_mode": {
    "name": "ipython",
    "version": 3
   },
   "file_extension": ".py",
   "mimetype": "text/x-python",
   "name": "python",
   "nbconvert_exporter": "python",
   "pygments_lexer": "ipython3",
   "version": "3.7.3"
  }
 },
 "nbformat": 4,
 "nbformat_minor": 2
}
